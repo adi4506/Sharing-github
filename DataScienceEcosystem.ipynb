{
 "cells": [
  {
   "cell_type": "markdown",
   "id": "340dbd0d-aa5f-4b42-a138-a42484633a77",
   "metadata": {},
   "source": [
    "<h1>Data Science Tools and Ecosystem<h1>"
   ]
  },
  {
   "cell_type": "markdown",
   "id": "c95e8558-62c8-4c40-918a-4d8190a731a0",
   "metadata": {},
   "source": [
    "<h4>In this notebook, Data Science Tools and Ecosystem are summarized.<h4>\n",
    "    \n",
    "    <h3>Objectives:<h3>\n",
    "        \n",
    "    <h4>List popular languages that Data Scientists use.\n",
    "        List commonly used libraries used by Data Scientists.\n",
    "        Comment on Data Science tools.<h4>"
   ]
  },
  {
   "cell_type": "markdown",
   "id": "16f228cd-df64-4f1e-a96b-8ce172b2ab50",
   "metadata": {},
   "source": [
    "<h4>\n",
    "Some of the popular languages that Data Scientists use are:\n",
    "\n",
    "1.Python.\n",
    "2.R.\n",
    "3.SQL.\n",
    "4.Java.\n",
    "5.Julia.\n",
    "6.Scala.\n",
    "7.C/C++.\n",
    "8.JavaScript.\n",
    "<h4>"
   ]
  },
  {
   "cell_type": "markdown",
   "id": "1f7005d8-9c02-4953-9bf1-6c5a5b8842bd",
   "metadata": {},
   "source": [
    "<h4>\n",
    "    Some of the commonly used libraries used by Data Scientists include:\n",
    "\n",
    "TensorFlow.\n",
    "NumPy.\n",
    "SciPy.\n",
    "Pandas.\n",
    "Matplotlib.\n",
    "Keras.\n",
    "SciKit-Learn.\n",
    "PyTorch.\n",
    "Scrapy.\n",
    "BeautifulSoup.\n",
    "LightGBM.\n",
    "ELI5.\n",
    "Theano.\n",
    "NuPIC.\n",
    "Ramp.\n",
    "Pipenv.\n",
    "Bob.\n",
    "PyBrain.\n",
    "Caffe2.\n",
    "Chainer.\n",
    "<h4>"
   ]
  },
  {
   "cell_type": "markdown",
   "id": "96e41aa7-61df-45d9-9589-118e330ae49c",
   "metadata": {
    "tags": []
   },
   "source": [
    "<h4>IData Science Tools:.<h4>\n",
    "    \n",
    "    <h3>Data Science Tools<h3>\n",
    "        \n",
    "    <h4>SAS. It is one of those data science tools which are specifically designed for statistical operation<h4>"
   ]
  },
  {
   "cell_type": "markdown",
   "id": "006911ca-9218-4e5d-8eb1-7beb7d206185",
   "metadata": {},
   "source": [
    "<h2>Below are a few examples of evaluating arithmetic expressions in Python<h2>"
   ]
  },
  {
   "cell_type": "code",
   "execution_count": 10,
   "id": "4150c924-92df-4a0f-a6a0-45ae03e9975e",
   "metadata": {
    "tags": []
   },
   "outputs": [
    {
     "data": {
      "text/plain": [
       "9"
      ]
     },
     "execution_count": 10,
     "metadata": {},
     "output_type": "execute_result"
    }
   ],
   "source": [
    "# Arithmetic operations\n",
    "code = compile(\"5 + 4\", \"<string>\", \"eval\")\n",
    "eval(code)\n",
    "# Result: 9"
   ]
  },
  {
   "cell_type": "code",
   "execution_count": 8,
   "id": "62ac1c32-d366-417b-82dc-ef8a9c1db7b3",
   "metadata": {
    "tags": []
   },
   "outputs": [
    {
     "data": {
      "text/plain": [
       "24"
      ]
     },
     "execution_count": 8,
     "metadata": {},
     "output_type": "execute_result"
    }
   ],
   "source": [
    "code1 = compile(\"(5 + 7) * 2\", \"<string>\", \"eval\")\n",
    "eval(code1)\n",
    "# Result: 24"
   ]
  },
  {
   "cell_type": "code",
   "execution_count": 9,
   "id": "5314be8a-1eb2-49ee-a4cb-78fef49a19db",
   "metadata": {
    "tags": []
   },
   "outputs": [
    {
     "data": {
      "text/plain": [
       "65449.84694978735"
      ]
     },
     "execution_count": 9,
     "metadata": {},
     "output_type": "execute_result"
    }
   ],
   "source": [
    "import math\n",
    "# Volume of a sphere\n",
    "code2 = compile(\"4 / 3 * math.pi * math.pow(25, 3)\", \"<string>\", \"eval\")\n",
    "eval(code2)\n",
    "# Result: 65449.84694978735"
   ]
  },
  {
   "cell_type": "markdown",
   "id": "0e812adf-8c17-43ee-b8a7-c4258596f605",
   "metadata": {},
   "source": [
    "<h4>This a simple arithmetic expression to mutiply then add integers<h4>"
   ]
  },
  {
   "cell_type": "code",
   "execution_count": 11,
   "id": "d8409b7b-1553-43f9-a163-5484e82cd492",
   "metadata": {
    "tags": []
   },
   "outputs": [
    {
     "data": {
      "text/plain": [
       "17"
      ]
     },
     "execution_count": 11,
     "metadata": {},
     "output_type": "execute_result"
    }
   ],
   "source": [
    "(3*4)+5\n",
    "# Result: 17"
   ]
  },
  {
   "cell_type": "markdown",
   "id": "bd8fcc47-b205-4959-8ff5-695855c7c3a2",
   "metadata": {},
   "source": [
    "<h4>This will convert 200 minutes to hours by diving by 60<h4>"
   ]
  },
  {
   "cell_type": "code",
   "execution_count": 12,
   "id": "5fd20940-aa77-4c41-858d-ba707ab07ca0",
   "metadata": {
    "tags": []
   },
   "outputs": [
    {
     "name": "stdout",
     "output_type": "stream",
     "text": [
      "0 days, 3.3333333333333335 hours, 0 mins. \n"
     ]
    }
   ],
   "source": [
    "days = 0\n",
    "hours = 0\n",
    "mins = 0\n",
    "\n",
    "time = 200\n",
    "#days = time / 1440\n",
    "leftover_minutes = time % 1440\n",
    "hours = leftover_minutes / 60\n",
    "#mins = time - (days*1440) - (hours*60)\n",
    "print(str(days) + \" days, \" + str(hours) + \" hours, \" + str(mins) +  \" mins. \")"
   ]
  },
  {
   "cell_type": "markdown",
   "id": "ba0b7fc0-f2ac-419e-8d8c-a6fc82bb7add",
   "metadata": {},
   "source": [
    "<h5>Below the introduction cell created in Exercise 3, insert a new markdown cell to list the objectives that this notebook covered (i.e. some of the key takeaways from the course). In this new cell start with an introductory line titled: Objectives: in bold font. Then using an unordered list (bullets) indicate 3 to 5 items covered in this notebook, such as List popular languages for Data Science.<h5>"
   ]
  },
  {
   "cell_type": "markdown",
   "id": "d9e9d8e4-5c2f-4a7b-8001-46777844a991",
   "metadata": {
    "tags": []
   },
   "source": [
    "<h2>Author:<h2>\n",
    "<h5>Adityasinh Gohil<h5>"
   ]
  },
  {
   "cell_type": "code",
   "execution_count": null,
   "id": "3dd68140-6ce2-47d8-a52a-f00ba3aa8b6f",
   "metadata": {},
   "outputs": [],
   "source": []
  },
  {
   "cell_type": "code",
   "execution_count": null,
   "id": "78307092-528f-462d-a822-8b692510dec0",
   "metadata": {},
   "outputs": [],
   "source": []
  }
 ],
 "metadata": {
  "kernelspec": {
   "display_name": "Python",
   "language": "python",
   "name": "conda-env-python-py"
  },
  "language_info": {
   "codemirror_mode": {
    "name": "ipython",
    "version": 3
   },
   "file_extension": ".py",
   "mimetype": "text/x-python",
   "name": "python",
   "nbconvert_exporter": "python",
   "pygments_lexer": "ipython3",
   "version": "3.7.12"
  }
 },
 "nbformat": 4,
 "nbformat_minor": 5
}
